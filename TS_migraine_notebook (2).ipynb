{
  "nbformat": 4,
  "nbformat_minor": 0,
  "metadata": {
    "colab": {
      "provenance": []
    },
    "kernelspec": {
      "name": "python3",
      "display_name": "Python 3"
    },
    "language_info": {
      "name": "python"
    }
  },
  "cells": [
    {
      "cell_type": "code",
      "source": [
        "# Install the scikit-fuzzy library for fuzzy logic implementation\n",
        "!pip install scikit-fuzzy\n",
        "\n",
        "# Import necessary libraries\n",
        "import numpy as np\n",
        "import pandas as pd\n",
        "import matplotlib.pyplot as plt\n",
        "import seaborn as sns  # For advanced visualizations\n",
        "\n",
        "# Import scikit-fuzzy for fuzzy logic-based computations\n",
        "import skfuzzy as fuzz\n",
        "\n",
        "# Import necessary machine learning tools from scikit-learn\n",
        "from sklearn.model_selection import train_test_split\n",
        "from sklearn.metrics import confusion_matrix, accuracy_score, mean_squared_error, classification_report\n",
        "from sklearn.neural_network import MLPClassifier  # Multi-layer Perceptron (MLP) for deep learning\n",
        "from sklearn.svm import SVC\n",
        "from sklearn.neighbors import KNeighborsClassifier\n",
        "from sklearn.tree import DecisionTreeClassifier\n",
        "from sklearn.ensemble import RandomForestClassifier\n",
        "from sklearn.preprocessing import LabelEncoder\n",
        "\n",
        "# Ignore warnings to keep output clean\n",
        "import warnings\n",
        "warnings.filterwarnings('ignore')\n"
      ],
      "metadata": {
        "colab": {
          "base_uri": "https://localhost:8080/"
        },
        "id": "Cxm4pl44wKx5",
        "outputId": "0535420a-b757-4e34-c1f5-a0bff6c2b7f9"
      },
      "execution_count": null,
      "outputs": [
        {
          "output_type": "stream",
          "name": "stdout",
          "text": [
            "Requirement already satisfied: scikit-fuzzy in /usr/local/lib/python3.11/dist-packages (0.5.0)\n"
          ]
        }
      ]
    },
    {
      "cell_type": "markdown",
      "source": [
        "# Step 1: Load Data and EDA\n"
      ],
      "metadata": {
        "id": "u-0KGo03wOno"
      }
    },
    {
      "cell_type": "code",
      "source": [
        "df = pd.read_csv('migraine_data.csv') #laoding the dataset"
      ],
      "metadata": {
        "id": "IC9YnI2rwTgf"
      },
      "execution_count": null,
      "outputs": []
    },
    {
      "cell_type": "code",
      "source": [
        "print(\"Data Head:\") #Viewing first few row of the dataset\n",
        "print(df.head())"
      ],
      "metadata": {
        "colab": {
          "base_uri": "https://localhost:8080/"
        },
        "id": "_0y4ZE78wVVh",
        "outputId": "82a405c5-dcc5-49e8-a36c-72eee4643c0f"
      },
      "execution_count": null,
      "outputs": [
        {
          "output_type": "stream",
          "name": "stdout",
          "text": [
            "Data Head:\n",
            "   Age  Duration  Frequency  Location  Character  Intensity  Nausea  Vomit  \\\n",
            "0   30         1          5         1          1          2       1      0   \n",
            "1   50         3          5         1          1          3       1      1   \n",
            "2   53         2          1         1          1          2       1      1   \n",
            "3   45         3          5         1          1          3       1      0   \n",
            "4   53         1          1         1          1          2       1      0   \n",
            "\n",
            "   Phonophobia  Photophobia  ...  Vertigo  Tinnitus  Hypoacusis  Diplopia  \\\n",
            "0            1            1  ...        0         0           0         0   \n",
            "1            1            1  ...        1         0           0         0   \n",
            "2            1            1  ...        0         0           0         0   \n",
            "3            1            1  ...        1         0           0         0   \n",
            "4            1            1  ...        0         0           0         0   \n",
            "\n",
            "   Defect  Ataxia  Conscience  Paresthesia  DPF                        Type  \n",
            "0       0       0           0            0    0  Typical aura with migraine  \n",
            "1       0       0           0            0    0  Typical aura with migraine  \n",
            "2       0       0           0            0    0  Typical aura with migraine  \n",
            "3       0       0           0            0    0  Typical aura with migraine  \n",
            "4       0       0           0            0    1  Typical aura with migraine  \n",
            "\n",
            "[5 rows x 24 columns]\n"
          ]
        }
      ]
    },
    {
      "cell_type": "code",
      "source": [
        "print(\"\\nData Description:\")\n",
        "# Display summary statistics of numerical columns in the DataFrame\n",
        "print(df.describe())"
      ],
      "metadata": {
        "colab": {
          "base_uri": "https://localhost:8080/"
        },
        "id": "20yf6VFYwW-g",
        "outputId": "26b563ce-bc53-450e-8c09-e6255da414cf"
      },
      "execution_count": null,
      "outputs": [
        {
          "output_type": "stream",
          "name": "stdout",
          "text": [
            "\n",
            "Data Description:\n",
            "              Age    Duration   Frequency    Location   Character  Intensity  \\\n",
            "count  400.000000  400.000000  400.000000  400.000000  400.000000  400.00000   \n",
            "mean    31.705000    1.610000    2.365000    0.972500    0.977500    2.47000   \n",
            "std     12.139043    0.770964    1.675947    0.268186    0.277825    0.76849   \n",
            "min     15.000000    1.000000    1.000000    0.000000    0.000000    0.00000   \n",
            "25%     22.000000    1.000000    1.000000    1.000000    1.000000    2.00000   \n",
            "50%     28.000000    1.000000    2.000000    1.000000    1.000000    3.00000   \n",
            "75%     40.000000    2.000000    4.000000    1.000000    1.000000    3.00000   \n",
            "max     77.000000    3.000000    8.000000    2.000000    2.000000    3.00000   \n",
            "\n",
            "           Nausea       Vomit  Phonophobia  Photophobia  ...  Dysarthria  \\\n",
            "count  400.000000  400.000000   400.000000   400.000000  ...    400.0000   \n",
            "mean     0.987500    0.322500     0.977500     0.980000  ...      0.0025   \n",
            "std      0.111242    0.468019     0.148489     0.140175  ...      0.0500   \n",
            "min      0.000000    0.000000     0.000000     0.000000  ...      0.0000   \n",
            "25%      1.000000    0.000000     1.000000     1.000000  ...      0.0000   \n",
            "50%      1.000000    0.000000     1.000000     1.000000  ...      0.0000   \n",
            "75%      1.000000    1.000000     1.000000     1.000000  ...      0.0000   \n",
            "max      1.000000    1.000000     1.000000     1.000000  ...      1.0000   \n",
            "\n",
            "          Vertigo    Tinnitus  Hypoacusis    Diplopia      Defect  Ataxia  \\\n",
            "count  400.000000  400.000000  400.000000  400.000000  400.000000   400.0   \n",
            "mean     0.125000    0.060000    0.015000    0.005000    0.015000     0.0   \n",
            "std      0.331133    0.237784    0.121705    0.070622    0.121705     0.0   \n",
            "min      0.000000    0.000000    0.000000    0.000000    0.000000     0.0   \n",
            "25%      0.000000    0.000000    0.000000    0.000000    0.000000     0.0   \n",
            "50%      0.000000    0.000000    0.000000    0.000000    0.000000     0.0   \n",
            "75%      0.000000    0.000000    0.000000    0.000000    0.000000     0.0   \n",
            "max      1.000000    1.000000    1.000000    1.000000    1.000000     0.0   \n",
            "\n",
            "       Conscience  Paresthesia         DPF  \n",
            "count  400.000000   400.000000  400.000000  \n",
            "mean     0.017500     0.007500    0.410000  \n",
            "std      0.131289     0.086385    0.492449  \n",
            "min      0.000000     0.000000    0.000000  \n",
            "25%      0.000000     0.000000    0.000000  \n",
            "50%      0.000000     0.000000    0.000000  \n",
            "75%      0.000000     0.000000    1.000000  \n",
            "max      1.000000     1.000000    1.000000  \n",
            "\n",
            "[8 rows x 23 columns]\n"
          ]
        }
      ]
    },
    {
      "cell_type": "code",
      "source": [
        "df.drop('Ataxia', axis=1, inplace=True) #Dpropping the column named Ataxia"
      ],
      "metadata": {
        "id": "bqZDPqVAyIxP"
      },
      "execution_count": null,
      "outputs": []
    },
    {
      "cell_type": "code",
      "source": [
        "type_counts = df['Type'].value_counts()\n",
        "# Visualization of the distribution of migraine types in the dataset using a bar plot,\n",
        "# improving readability with customized labels, rotation, and a color palette.\n",
        "plt.figure(figsize=(12, 6))\n",
        "sns.barplot(x=type_counts.index, y=type_counts.values, palette=\"viridis\")\n",
        "plt.xlabel(\"Type\", fontsize=14)\n",
        "plt.ylabel(\"Count\", fontsize=14)\n",
        "plt.title(\"Distribution of Migraine Types\", fontsize=16)\n",
        "plt.xticks(rotation=45, ha=\"right\", fontsize=12)\n",
        "plt.show()"
      ],
      "metadata": {
        "colab": {
          "base_uri": "https://localhost:8080/",
          "height": 721
        },
        "id": "yhjIreiTwNwm",
        "outputId": "e64b7f21-9584-4669-9368-14d07e106ed8"
      },
      "execution_count": null,
      "outputs": [
        {
          "output_type": "display_data",
          "data": {
            "text/plain": [
              "<Figure size 1200x600 with 1 Axes>"
            ],
            "image/png": "[encoded data removed]"
          },
          "metadata": {}
        }
      ]
    },
    {
      "cell_type": "code",
      "source": [
        "#Using labelencoder for encoding\n",
        "le = LabelEncoder()\n",
        "df['Type_encoded'] = le.fit_transform(df['Type'])\n",
        "target = df['Type_encoded']"
      ],
      "metadata": {
        "id": "AJDT__6J3z9B"
      },
      "execution_count": null,
      "outputs": []
    },
    {
      "cell_type": "code",
      "source": [
        "# Find the minimum, maximum and mean value in the target variable\n",
        "t_min = target.min()\n",
        "t_max = target.max()\n",
        "t_mid = target.mean()\n",
        "\n",
        "# Calculate the left threshold: halfway between the minimum value and the mean\n",
        "L = t_min + (t_mid - t_min) / 2\n",
        "\n",
        "# Calculate the right threshold: halfway between the maximum value and the mean\n",
        "R = t_max - (t_max - t_mid) / 2\n",
        "\n",
        "# Create an array named universe of 100 evenly spaced values between t_min and t_max\n",
        "universe = np.linspace(t_min, t_max, 100)\n"
      ],
      "metadata": {
        "id": "Xl1hfK0Kwpna"
      },
      "execution_count": null,
      "outputs": []
    },
    {
      "cell_type": "code",
      "source": [
        "# Left Shoulder Membership Function (for Low)\n",
        "# This function defines a trapezoidal membership function where:\n",
        "# - 'a' and 'b' determine the flat lower boundary (left shoulder).\n",
        "# - 'c' determines the decreasing slope.\n",
        "def left_shoulder(universe, a, b, c):\n",
        "    return fuzz.trapmf(universe, [a, a, b, c])\n",
        "\n",
        "# Right Shoulder Membership Function (for High)\n",
        "# This function defines a trapezoidal membership function where:\n",
        "# - 'a' determines the increasing slope.\n",
        "# - 'b' and 'c' define the flat upper boundary (right shoulder).\n",
        "def right_shoulder(universe, a, b, c):\n",
        "    return fuzz.trapmf(universe, [a, b, c, c])\n",
        "\n",
        "# Triangular Membership Function (for Medium)\n",
        "# This function defines a triangular membership function where:\n",
        "# - 'a' is the left base of the triangle.\n",
        "# - 'b' is the peak (highest membership value).\n",
        "# - 'c' is the right base of the triangle.\n",
        "def triangular(universe, a, b, c):\n",
        "    return fuzz.trimf(universe, [a, b, c])\n"
      ],
      "metadata": {
        "id": "3fmBFfh84Sn6"
      },
      "execution_count": null,
      "outputs": []
    },
    {
      "cell_type": "code",
      "source": [
        "mu_low = left_shoulder(universe, t_min, L, t_mid)  # Fuzzy membership values for the \"Low\" category\n",
        "mu_med = triangular(universe, L, t_mid, R)  # Fuzzy membership values for the \"Medium\" category\n",
        "mu_high = right_shoulder(universe, t_mid, R, t_max)  # Fuzzy membership values for the \"High\" category"
      ],
      "metadata": {
        "id": "Z_Ad2jN_4Qb7"
      },
      "execution_count": null,
      "outputs": []
    },
    {
      "cell_type": "code",
      "source": [
        "# Creating a function to compute fuzzy membership values for a given input value\n",
        "def compute_memberships(value):\n",
        "    m_low  = fuzz.interp_membership(universe, mu_low, value)  # Compute membership in the \"Low\" fuzzy set\n",
        "    m_med  = fuzz.interp_membership(universe, mu_med, value)  # Compute membership in the \"Medium\" fuzzy set\n",
        "    m_high = fuzz.interp_membership(universe, mu_high, value)  # Compute membership in the \"High\" fuzzy set\n",
        "    return m_low, m_med, m_high  # Return membership values for all fuzzy sets"
      ],
      "metadata": {
        "id": "00HHADfjwt0N"
      },
      "execution_count": null,
      "outputs": []
    },
    {
      "cell_type": "code",
      "source": [
        "# Apply the compute_memberships function to each value in the target column\n",
        "memberships = target.apply(compute_memberships)\n",
        "\n",
        "# Convert the list of membership values into a NumPy array for easier indexing\n",
        "memberships = np.array(list(memberships))\n",
        "\n",
        "# Assign the computed \"Low\" membership values to a new column in the DataFrame\n",
        "df['mu_low'] = memberships[:, 0]\n",
        "\n",
        "# Assign the computed \"Medium\" membership values to a new column in the DataFrame\n",
        "df['mu_med'] = memberships[:, 1]\n",
        "\n",
        "# Assign the computed \"High\" membership values to a new column in the DataFrame\n",
        "df['mu_high'] = memberships[:, 2]\n",
        "\n",
        "# Determine the fuzzy label by finding the index of the highest membership value (0 = Low, 1 = Medium, 2 = High)\n",
        "df['fuzzy_label'] = df.apply(lambda row: np.argmax([row['mu_low'], row['mu_med'], row['mu_high']]), axis=1)\n",
        "\n",
        "# Print a sample of the fuzzified target values, showing original type and computed fuzzy values\n",
        "print(\"\\nSample of fuzzified target (Migraine Type):\")\n",
        "print(df[['Type', 'Type_encoded', 'mu_low', 'mu_med', 'mu_high', 'fuzzy_label']].head())\n"
      ],
      "metadata": {
        "colab": {
          "base_uri": "https://localhost:8080/"
        },
        "id": "QXznWvoBw5Uj",
        "outputId": "31f4bd8e-297c-426d-f781-ef9b490e0709"
      },
      "execution_count": null,
      "outputs": [
        {
          "output_type": "stream",
          "name": "stdout",
          "text": [
            "\n",
            "Sample of fuzzified target (Migraine Type):\n",
            "                         Type  Type_encoded  mu_low    mu_med   mu_high  \\\n",
            "0  Typical aura with migraine             5     0.0  0.019044  0.980956   \n",
            "1  Typical aura with migraine             5     0.0  0.019044  0.980956   \n",
            "2  Typical aura with migraine             5     0.0  0.019044  0.980956   \n",
            "3  Typical aura with migraine             5     0.0  0.019044  0.980956   \n",
            "4  Typical aura with migraine             5     0.0  0.019044  0.980956   \n",
            "\n",
            "   fuzzy_label  \n",
            "0            2  \n",
            "1            2  \n",
            "2            2  \n",
            "3            2  \n",
            "4            2  \n"
          ]
        }
      ]
    },
    {
      "cell_type": "markdown",
      "source": [
        "# Step 3: Prepare Data for Modeling\n"
      ],
      "metadata": {
        "id": "dOirquerw-fj"
      }
    },
    {
      "cell_type": "code",
      "source": [
        "# Define columns to drop as they are not needed for model training\n",
        "drop_cols = ['Type', 'Type_encoded', 'mu_low', 'mu_med', 'mu_high', 'fuzzy_label']\n",
        "\n",
        "# Select only numerical columns from the DataFrame and drop the specified columns if they exist\n",
        "X = df.select_dtypes(include=[np.number]).drop(columns=drop_cols, errors='ignore')\n",
        "\n",
        "# Define the target variable for fuzzy classification (fuzzy labels)\n",
        "y_fuzzy = df['fuzzy_label']\n",
        "\n",
        "# Define the target variable for crisp classification (original encoded labels)\n",
        "y_crisp = df['Type_encoded']\n",
        "\n",
        "# Split the dataset into training and testing sets (80% train, 20% test)\n",
        "# X: Features, y_fuzzy: Fuzzy target labels, y_crisp: Original encoded labels\n",
        "X_train, X_test, y_train, y_test, y_train_crisp, y_test_crisp = train_test_split(\n",
        "    X, y_fuzzy, y_crisp, test_size=0.2, random_state=42)  # Set random_state for reproducibility\n"
      ],
      "metadata": {
        "id": "xKYWOS3hw8uR"
      },
      "execution_count": null,
      "outputs": []
    },
    {
      "cell_type": "markdown",
      "source": [
        "# Step 4: Fuzzy Classification & Model Training\n"
      ],
      "metadata": {
        "id": "15xgwLLBxDJo"
      }
    },
    {
      "cell_type": "code",
      "source": [
        "# Define a dictionary of classification models for fuzzy label prediction\n",
        "fuzzy_models = {\n",
        "    \"Neural Network\": MLPClassifier(hidden_layer_sizes=(10, 10), max_iter=500, random_state=42),  # Multi-layer Perceptron with two hidden layers\n",
        "    \"SVM\": SVC(probability=True, random_state=42),  # Support Vector Machine with probability estimation\n",
        "    \"KNN\": KNeighborsClassifier(n_neighbors=5),  # K-Nearest Neighbors with k=5\n",
        "    \"Decision Tree\": DecisionTreeClassifier(random_state=42),  # Decision Tree classifier\n",
        "    \"Random Forest\": RandomForestClassifier(n_estimators=100, random_state=42)  # Random Forest with 100 estimators\n",
        "}\n",
        "\n",
        "# Initialize an empty dictionary to store model accuracies\n",
        "fuzzy_results = {}\n",
        "\n",
        "# Print header for classification accuracy results\n",
        "print(\"\\n--- Fuzzy Label Classification Accuracies ---\")\n",
        "\n",
        "# Train and evaluate each model on the fuzzy labels\n",
        "for name, model in fuzzy_models.items():\n",
        "    model.fit(X_train, y_train)  # Train the model\n",
        "    preds = model.predict(X_test)  # Make predictions on the test set\n",
        "    acc = accuracy_score(y_test, preds)  # Calculate accuracy\n",
        "    fuzzy_results[name] = acc  # Store accuracy in the results dictionary\n",
        "    print(f\"{name}: {acc * 100:.2f}%\")  # Print accuracy percentage\n",
        "\n",
        "# Identify the best-performing model based on accuracy\n",
        "best_fuzzy_model_name = max(fuzzy_results, key=fuzzy_results.get)\n",
        "best_fuzzy_model = fuzzy_models[best_fuzzy_model_name]  # Retrieve the best model"
      ],
      "metadata": {
        "colab": {
          "base_uri": "https://localhost:8080/"
        },
        "id": "GIQxUGQuxChm",
        "outputId": "1363f297-af41-49a3-ae08-54328d98ed72"
      },
      "execution_count": null,
      "outputs": [
        {
          "output_type": "stream",
          "name": "stdout",
          "text": [
            "\n",
            "--- Fuzzy Label Classification Accuracies ---\n",
            "Neural Network: 96.25%\n",
            "SVM: 65.00%\n",
            "KNN: 77.50%\n",
            "Decision Tree: 95.00%\n",
            "Random Forest: 93.75%\n"
          ]
        }
      ]
    },
    {
      "cell_type": "code",
      "source": [
        "# Print the best-performing fuzzy classification model\n",
        "print(f\"\\nBest fuzzy model based on classification: {best_fuzzy_model_name}\")\n",
        "\n",
        "# Indicate that the selected best model will be used for defuzzification\n",
        "print(f\"Using {best_fuzzy_model_name} for defuzzification.\")"
      ],
      "metadata": {
        "colab": {
          "base_uri": "https://localhost:8080/"
        },
        "id": "D4pTzA3VxJxC",
        "outputId": "f1d1aa44-0054-44c4-cbca-e999765b08d3"
      },
      "execution_count": null,
      "outputs": [
        {
          "output_type": "stream",
          "name": "stdout",
          "text": [
            "\n",
            "Best fuzzy model based on classification: Neural Network\n",
            "Using Neural Network for defuzzification.\n"
          ]
        }
      ]
    },
    {
      "cell_type": "markdown",
      "source": [
        "# Step 5: Fuzzy Defuzzification Using the Best Model\n"
      ],
      "metadata": {
        "id": "wCDX6LEjxLrN"
      }
    },
    {
      "cell_type": "code",
      "source": [
        "# Compute the centroid (defuzzified crisp value) for the \"Low\" fuzzy set\n",
        "centroid_low  = fuzz.defuzz(universe, mu_low, 'centroid')\n",
        "\n",
        "# Compute the centroid (defuzzified crisp value) for the \"Medium\" fuzzy set\n",
        "centroid_med  = fuzz.defuzz(universe, mu_med, 'centroid')\n",
        "\n",
        "# Compute the centroid (defuzzified crisp value) for the \"High\" fuzzy set\n",
        "centroid_high = fuzz.defuzz(universe, mu_high, 'centroid')\n",
        "\n",
        "# Print the representative crisp values for each fuzzy category\n",
        "print(\"\\nRepresentative crisp values (centroids):\")\n",
        "print(f\"Low: {centroid_low:.2f}, Medium: {centroid_med:.2f}, High: {centroid_high:.2f}\")"
      ],
      "metadata": {
        "colab": {
          "base_uri": "https://localhost:8080/"
        },
        "id": "BD1HxmFNxPn3",
        "outputId": "b37fcff2-3f24-4acb-cdc6-2304b707fca8"
      },
      "execution_count": null,
      "outputs": [
        {
          "output_type": "stream",
          "name": "stdout",
          "text": [
            "\n",
            "Representative crisp values (centroids):\n",
            "Low: 1.56, Medium: 3.68, High: 5.23\n"
          ]
        }
      ]
    },
    {
      "cell_type": "code",
      "source": [
        "# Get predicted probabilities for each class using the best fuzzy classification model\n",
        "y_prob = best_fuzzy_model.predict_proba(X_test)\n",
        "\n",
        "# Define a function to perform centroid-based defuzzification\n",
        "def defuzzify_centroid(probs):\n",
        "    return (probs[0] * centroid_low + probs[1] * centroid_med + probs[2] * centroid_high) / np.sum(probs)\n",
        "\n",
        "# Define a function to perform max-membership (MOM) defuzzification\n",
        "def defuzzify_mom(probs):\n",
        "    idx = np.argmax(probs)  # Get the index of the highest probability\n",
        "    return [centroid_low, centroid_med, centroid_high][idx]  # Return corresponding centroid value\n",
        "\n",
        "# Apply centroid-based defuzzification to all probability outputs\n",
        "defuzz_centroid = np.array([defuzzify_centroid(probs) for probs in y_prob])\n",
        "\n",
        "# Apply max-membership (MOM) defuzzification to all probability outputs\n",
        "defuzz_mom = np.array([defuzzify_mom(probs) for probs in y_prob])\n",
        "\n",
        "# Compute the Root Mean Squared Error (RMSE) between crisp labels and centroid defuzzification\n",
        "rmse_centroid = np.sqrt(mean_squared_error(y_test_crisp, defuzz_centroid))\n",
        "\n",
        "# Compute the RMSE between crisp labels and MOM defuzzification\n",
        "rmse_mom = np.sqrt(mean_squared_error(y_test_crisp, defuzz_mom))"
      ],
      "metadata": {
        "id": "lHPrcqNkxTJ4"
      },
      "execution_count": null,
      "outputs": []
    },
    {
      "cell_type": "code",
      "source": [
        "# Print the RMSE comparison results for defuzzification methods\n",
        "print(\"\\n--- Fuzzy Defuzzification RMSE Comparison ---\")\n",
        "\n",
        "# Print the RMSE for the Centroid defuzzification method\n",
        "print(f\"Centroid Method RMSE: {rmse_centroid:.4f}\")\n",
        "\n",
        "# Print the RMSE for the Mean of Maxima (MOM) defuzzification method\n",
        "print(f\"Mean of Maxima (MOM) RMSE: {rmse_mom:.4f}\")\n",
        "\n",
        "# Determine which defuzzification method is more accurate based on RMSE\n",
        "if rmse_centroid < rmse_mom:\n",
        "    print(\"The Centroid defuzzification method is more accurate based on RMSE.\")\n",
        "else:\n",
        "    print(\"The Mean of Maxima (MOM) defuzzification method is more accurate based on RMSE.\")"
      ],
      "metadata": {
        "colab": {
          "base_uri": "https://localhost:8080/"
        },
        "id": "LL7tOGxOxVTR",
        "outputId": "a0126370-6df9-4e5a-e86f-430ba248b4d7"
      },
      "execution_count": null,
      "outputs": [
        {
          "output_type": "stream",
          "name": "stdout",
          "text": [
            "\n",
            "--- Fuzzy Defuzzification RMSE Comparison ---\n",
            "Centroid Method RMSE: 0.8323\n",
            "Mean of Maxima (MOM) RMSE: 0.8355\n",
            "The Centroid defuzzification method is more accurate based on RMSE.\n"
          ]
        }
      ]
    },
    {
      "cell_type": "markdown",
      "source": [
        "# Step 6: Non-Fuzzy Prediction (Direct Classification on Type_encoded)\n"
      ],
      "metadata": {
        "id": "yrWtFJYvxZY6"
      }
    },
    {
      "cell_type": "code",
      "source": [
        "# Define the non-fuzzy target variable (original encoded labels)\n",
        "non_fuzzy_target = df['Type_encoded']\n",
        "\n",
        "# Split the dataset into training and testing sets for non-fuzzy classification (80% train, 20% test)\n",
        "X_train_nf, X_test_nf, y_train_nf, y_test_nf = train_test_split(\n",
        "    X, non_fuzzy_target, test_size=0.2, random_state=42)  # Set random_state for reproducibility\n",
        "\n",
        "# Define a dictionary of classification models for non-fuzzy (crisp) label prediction\n",
        "non_fuzzy_models = {\n",
        "    \"Neural Network\": MLPClassifier(hidden_layer_sizes=(10, 10), max_iter=500, random_state=42),  # Multi-layer Perceptron\n",
        "    \"SVM\": SVC(probability=True, random_state=42),  # Support Vector Machine\n",
        "    \"KNN\": KNeighborsClassifier(n_neighbors=5),  # K-Nearest Neighbors\n",
        "    \"Decision Tree\": DecisionTreeClassifier(random_state=42),  # Decision Tree classifier\n",
        "    \"Random Forest\": RandomForestClassifier(n_estimators=100, random_state=42)  # Random Forest with 100 estimators\n",
        "}"
      ],
      "metadata": {
        "id": "SbulbzlExVJn"
      },
      "execution_count": null,
      "outputs": []
    },
    {
      "cell_type": "code",
      "source": [
        "# Dictionary to store accuracy results for non-fuzzy classification\n",
        "non_fuzzy_results = {}\n",
        "\n",
        "# Print header for non-fuzzy classification accuracy results\n",
        "print(\"\\n--- Non-Fuzzy Classification Accuracies ---\")\n",
        "\n",
        "# Train and evaluate each non-fuzzy classification model\n",
        "for name, model in non_fuzzy_models.items():\n",
        "    model.fit(X_train_nf, y_train_nf)  # Train the model on the non-fuzzy training data\n",
        "    preds_nf = model.predict(X_test_nf)  # Predict on the test set\n",
        "    acc_nf = accuracy_score(y_test_nf, preds_nf)  # Calculate accuracy\n",
        "    non_fuzzy_results[name] = acc_nf  # Store accuracy in results dictionary\n",
        "    print(f\"{name}: {acc_nf * 100:.2f}%\")  # Print accuracy for each model\n",
        "\n",
        "# Identify the best non-fuzzy model based on highest accuracy\n",
        "best_non_fuzzy_model_name = max(non_fuzzy_results, key=non_fuzzy_results.get)\n",
        "best_non_fuzzy_model = non_fuzzy_models[best_non_fuzzy_model_name]\n",
        "\n",
        "# Print the best-performing non-fuzzy classification model\n",
        "print(f\"\\nBest non-fuzzy model based on classification: {best_non_fuzzy_model_name}\")"
      ],
      "metadata": {
        "colab": {
          "base_uri": "https://localhost:8080/"
        },
        "id": "Ij5K1Eo-xeDz",
        "outputId": "5b4424e4-1601-4e26-a411-6c16e7c4a237"
      },
      "execution_count": null,
      "outputs": [
        {
          "output_type": "stream",
          "name": "stdout",
          "text": [
            "\n",
            "--- Non-Fuzzy Classification Accuracies ---\n",
            "Neural Network: 88.75%\n",
            "SVM: 61.25%\n",
            "KNN: 75.00%\n",
            "Decision Tree: 86.25%\n",
            "Random Forest: 95.00%\n",
            "\n",
            "Best non-fuzzy model based on classification: Random Forest\n"
          ]
        }
      ]
    },
    {
      "cell_type": "markdown",
      "source": [
        "# Step 7: Print Classification Reports (text output)\n"
      ],
      "metadata": {
        "id": "RdnlXDrhxipl"
      }
    },
    {
      "cell_type": "code",
      "source": [
        "# Step 7: Print Classification Reports & Confusion Matrix\n",
        "print(\"\\n--- Fuzzy Model Classification Reports ---\")\n",
        "# Neural Network Fuzzy\n",
        "print(f\"\\nFuzzy Classification Report - Neural Network\")\n",
        "preds = fuzzy_models['Neural Network'].predict(X_test)\n",
        "print(classification_report(y_test, preds))\n",
        "print(confusion_matrix(y_test, preds))\n",
        "\n",
        "# SVM Fuzzy\n",
        "print(f\"\\nFuzzy Classification Report - SVM\")\n",
        "preds = fuzzy_models['SVM'].predict(X_test)\n",
        "print(classification_report(y_test, preds))\n",
        "print(confusion_matrix(y_test, preds))\n",
        "\n",
        "# KNN Fuzzy\n",
        "print(f\"\\nFuzzy Classification Report - KNN\")\n",
        "preds = fuzzy_models['KNN'].predict(X_test)\n",
        "print(classification_report(y_test, preds))\n",
        "print(confusion_matrix(y_test, preds))\n",
        "\n",
        "# Decision Tree Fuzzy\n",
        "print(f\"\\nFuzzy Classification Report - Decision Tree\")\n",
        "preds = fuzzy_models['Decision Tree'].predict(X_test)\n",
        "print(classification_report(y_test, preds))\n",
        "print(confusion_matrix(y_test, preds))\n",
        "\n",
        "# Random Forest Fuzzy\n",
        "print(f\"\\nFuzzy Classification Report - Random Forest\")\n",
        "preds = fuzzy_models['Random Forest'].predict(X_test)\n",
        "print(classification_report(y_test, preds))\n",
        "print(confusion_matrix(y_test, preds))\n",
        "\n",
        "print(\"\\n--- Non-Fuzzy Model Classification Reports ---\")\n",
        "# Neural Network Non-Fuzzy\n",
        "print(f\"\\nNon-Fuzzy Classification Report - Neural Network\")\n",
        "preds_nf = non_fuzzy_models['Neural Network'].predict(X_test_nf)\n",
        "print(classification_report(y_test_nf, preds_nf))\n",
        "print(confusion_matrix(y_test_nf, preds_nf))\n",
        "\n",
        "# SVM Non-Fuzzy\n",
        "print(f\"\\nNon-Fuzzy Classification Report - SVM\")\n",
        "preds_nf = non_fuzzy_models['SVM'].predict(X_test_nf)\n",
        "print(classification_report(y_test_nf, preds_nf))\n",
        "print(confusion_matrix(y_test_nf, preds_nf))\n",
        "\n",
        "# KNN Non-Fuzzy\n",
        "print(f\"\\nNon-Fuzzy Classification Report - KNN\")\n",
        "preds_nf = non_fuzzy_models['KNN'].predict(X_test_nf)\n",
        "print(classification_report(y_test_nf, preds_nf))\n",
        "print(confusion_matrix(y_test_nf, preds_nf))\n",
        "\n",
        "# Decision Tree Non-Fuzzy\n",
        "print(f\"\\nNon-Fuzzy Classification Report - Decision Tree\")\n",
        "preds_nf = non_fuzzy_models['Decision Tree'].predict(X_test_nf)\n",
        "print(classification_report(y_test_nf, preds_nf))\n",
        "print(confusion_matrix(y_test_nf, preds_nf))\n",
        "\n",
        "# Random Forest Non-Fuzzy\n",
        "print(f\"\\nNon-Fuzzy Classification Report - Random Forest\")\n",
        "preds_nf = non_fuzzy_models['Random Forest'].predict(X_test_nf)\n",
        "print(classification_report(y_test_nf, preds_nf))\n",
        "print(confusion_matrix(y_test_nf, preds_nf))\n"
      ],
      "metadata": {
        "colab": {
          "base_uri": "https://localhost:8080/"
        },
        "id": "FZHPKEdoz70S",
        "outputId": "d01cad18-4249-43a3-940e-fd5ceba7c7e4"
      },
      "execution_count": null,
      "outputs": [
        {
          "output_type": "stream",
          "name": "stdout",
          "text": [
            "\n",
            "--- Fuzzy Model Classification Reports ---\n",
            "\n",
            "Fuzzy Classification Report - Neural Network\n",
            "              precision    recall  f1-score   support\n",
            "\n",
            "           0       0.93      1.00      0.96        26\n",
            "           1       1.00      0.50      0.67         2\n",
            "           2       0.98      0.96      0.97        52\n",
            "\n",
            "    accuracy                           0.96        80\n",
            "   macro avg       0.97      0.82      0.87        80\n",
            "weighted avg       0.96      0.96      0.96        80\n",
            "\n",
            "[[26  0  0]\n",
            " [ 0  1  1]\n",
            " [ 2  0 50]]\n",
            "\n",
            "Fuzzy Classification Report - SVM\n",
            "              precision    recall  f1-score   support\n",
            "\n",
            "           0       0.00      0.00      0.00        26\n",
            "           1       0.00      0.00      0.00         2\n",
            "           2       0.65      1.00      0.79        52\n",
            "\n",
            "    accuracy                           0.65        80\n",
            "   macro avg       0.22      0.33      0.26        80\n",
            "weighted avg       0.42      0.65      0.51        80\n",
            "\n",
            "[[ 0  0 26]\n",
            " [ 0  0  2]\n",
            " [ 0  0 52]]\n",
            "\n",
            "Fuzzy Classification Report - KNN\n",
            "              precision    recall  f1-score   support\n",
            "\n",
            "           0       0.86      0.46      0.60        26\n",
            "           1       0.50      0.50      0.50         2\n",
            "           2       0.77      0.94      0.84        52\n",
            "\n",
            "    accuracy                           0.78        80\n",
            "   macro avg       0.71      0.63      0.65        80\n",
            "weighted avg       0.79      0.78      0.76        80\n",
            "\n",
            "[[12  0 14]\n",
            " [ 0  1  1]\n",
            " [ 2  1 49]]\n",
            "\n",
            "Fuzzy Classification Report - Decision Tree\n",
            "              precision    recall  f1-score   support\n",
            "\n",
            "           0       0.96      0.92      0.94        26\n",
            "           1       0.50      0.50      0.50         2\n",
            "           2       0.96      0.98      0.97        52\n",
            "\n",
            "    accuracy                           0.95        80\n",
            "   macro avg       0.81      0.80      0.80        80\n",
            "weighted avg       0.95      0.95      0.95        80\n",
            "\n",
            "[[24  0  2]\n",
            " [ 1  1  0]\n",
            " [ 0  1 51]]\n",
            "\n",
            "Fuzzy Classification Report - Random Forest\n",
            "              precision    recall  f1-score   support\n",
            "\n",
            "           0       0.90      1.00      0.95        26\n",
            "           1       0.00      0.00      0.00         2\n",
            "           2       0.98      0.94      0.96        52\n",
            "\n",
            "    accuracy                           0.94        80\n",
            "   macro avg       0.63      0.65      0.64        80\n",
            "weighted avg       0.93      0.94      0.93        80\n",
            "\n",
            "[[26  0  0]\n",
            " [ 1  0  1]\n",
            " [ 2  1 49]]\n",
            "\n",
            "--- Non-Fuzzy Model Classification Reports ---\n",
            "\n",
            "Non-Fuzzy Classification Report - Neural Network\n",
            "              precision    recall  f1-score   support\n",
            "\n",
            "           0       1.00      0.50      0.67         6\n",
            "           1       0.50      1.00      0.67         3\n",
            "           2       0.86      0.92      0.89        13\n",
            "           3       1.00      0.25      0.40         4\n",
            "           4       0.00      0.00      0.00         2\n",
            "           5       0.94      1.00      0.97        49\n",
            "           6       0.75      1.00      0.86         3\n",
            "\n",
            "    accuracy                           0.89        80\n",
            "   macro avg       0.72      0.67      0.64        80\n",
            "weighted avg       0.89      0.89      0.87        80\n",
            "\n",
            "[[ 3  2  0  0  0  0  1]\n",
            " [ 0  3  0  0  0  0  0]\n",
            " [ 0  0 12  0  0  1  0]\n",
            " [ 0  1  2  1  0  0  0]\n",
            " [ 0  0  0  0  0  2  0]\n",
            " [ 0  0  0  0  0 49  0]\n",
            " [ 0  0  0  0  0  0  3]]\n",
            "\n",
            "Non-Fuzzy Classification Report - SVM\n",
            "              precision    recall  f1-score   support\n",
            "\n",
            "           0       0.00      0.00      0.00         6\n",
            "           1       0.00      0.00      0.00         3\n",
            "           2       0.00      0.00      0.00        13\n",
            "           3       0.00      0.00      0.00         4\n",
            "           4       0.00      0.00      0.00         2\n",
            "           5       0.61      1.00      0.76        49\n",
            "           6       0.00      0.00      0.00         3\n",
            "\n",
            "    accuracy                           0.61        80\n",
            "   macro avg       0.09      0.14      0.11        80\n",
            "weighted avg       0.38      0.61      0.47        80\n",
            "\n",
            "[[ 0  0  0  0  0  6  0]\n",
            " [ 0  0  0  0  0  3  0]\n",
            " [ 0  0  0  0  0 13  0]\n",
            " [ 0  0  0  0  0  4  0]\n",
            " [ 0  0  0  0  0  2  0]\n",
            " [ 0  0  0  0  0 49  0]\n",
            " [ 0  0  0  0  0  3  0]]\n",
            "\n",
            "Non-Fuzzy Classification Report - KNN\n",
            "              precision    recall  f1-score   support\n",
            "\n",
            "           0       0.00      0.00      0.00         6\n",
            "           1       0.33      0.33      0.33         3\n",
            "           2       0.90      0.69      0.78        13\n",
            "           3       0.00      0.00      0.00         4\n",
            "           4       0.50      0.50      0.50         2\n",
            "           5       0.75      0.96      0.84        49\n",
            "           6       1.00      0.67      0.80         3\n",
            "\n",
            "    accuracy                           0.75        80\n",
            "   macro avg       0.50      0.45      0.47        80\n",
            "weighted avg       0.67      0.75      0.70        80\n",
            "\n",
            "[[ 0  0  0  0  0  6  0]\n",
            " [ 0  1  0  0  0  2  0]\n",
            " [ 0  0  9  0  0  4  0]\n",
            " [ 0  2  0  0  0  2  0]\n",
            " [ 0  0  0  0  1  1  0]\n",
            " [ 0  0  1  0  1 47  0]\n",
            " [ 0  0  0  0  0  1  2]]\n",
            "\n",
            "Non-Fuzzy Classification Report - Decision Tree\n",
            "              precision    recall  f1-score   support\n",
            "\n",
            "           0       0.71      0.83      0.77         6\n",
            "           1       0.00      0.00      0.00         3\n",
            "           2       0.81      1.00      0.90        13\n",
            "           3       0.00      0.00      0.00         4\n",
            "           4       0.25      0.50      0.33         2\n",
            "           5       0.96      0.96      0.96        49\n",
            "           6       1.00      1.00      1.00         3\n",
            "\n",
            "    accuracy                           0.86        80\n",
            "   macro avg       0.53      0.61      0.57        80\n",
            "weighted avg       0.82      0.86      0.84        80\n",
            "\n",
            "[[ 5  0  0  0  0  1  0]\n",
            " [ 1  0  1  0  1  0  0]\n",
            " [ 0  0 13  0  0  0  0]\n",
            " [ 0  1  2  0  0  1  0]\n",
            " [ 1  0  0  0  1  0  0]\n",
            " [ 0  0  0  0  2 47  0]\n",
            " [ 0  0  0  0  0  0  3]]\n",
            "\n",
            "Non-Fuzzy Classification Report - Random Forest\n",
            "              precision    recall  f1-score   support\n",
            "\n",
            "           0       1.00      1.00      1.00         6\n",
            "           1       1.00      0.67      0.80         3\n",
            "           2       0.87      1.00      0.93        13\n",
            "           3       1.00      0.75      0.86         4\n",
            "           4       0.00      0.00      0.00         2\n",
            "           5       0.96      1.00      0.98        49\n",
            "           6       1.00      1.00      1.00         3\n",
            "\n",
            "    accuracy                           0.95        80\n",
            "   macro avg       0.83      0.77      0.80        80\n",
            "weighted avg       0.93      0.95      0.94        80\n",
            "\n",
            "[[ 6  0  0  0  0  0  0]\n",
            " [ 0  2  1  0  0  0  0]\n",
            " [ 0  0 13  0  0  0  0]\n",
            " [ 0  0  1  3  0  0  0]\n",
            " [ 0  0  0  0  0  2  0]\n",
            " [ 0  0  0  0  0 49  0]\n",
            " [ 0  0  0  0  0  0  3]]\n"
          ]
        }
      ]
    },
    {
      "cell_type": "code",
      "source": [
        "# Print classification reports for fuzzy and non-fuzzy models\n",
        "\n",
        "print(\"\\n--- Fuzzy Model Classification Reports ---\")\n",
        "for name, model in fuzzy_models.items():\n",
        "    print(f\"\\nFuzzy Classification Report - {name}\")\n",
        "    preds = model.predict(X_test)  # Predict on fuzzy test set\n",
        "    print(classification_report(y_test, preds))  # Print classification report\n",
        "\n",
        "print(\"\\n--- Non-Fuzzy Model Classification Reports ---\")\n",
        "for name, model in non_fuzzy_models.items():\n",
        "    print(f\"\\nNon-Fuzzy Classification Report - {name}\")\n",
        "    preds_nf = model.predict(X_test_nf)  # Predict on non-fuzzy test set\n",
        "    print(classification_report(y_test_nf, preds_nf))  # Print classification report"
      ],
      "metadata": {
        "colab": {
          "base_uri": "https://localhost:8080/"
        },
        "id": "6EfbsaDAxhZ2",
        "outputId": "04efbed3-c026-4e7b-fafb-4ff10b1226d1"
      },
      "execution_count": null,
      "outputs": [
        {
          "output_type": "stream",
          "name": "stdout",
          "text": [
            "\n",
            "--- Fuzzy Model Classification Reports ---\n",
            "\n",
            "Fuzzy Classification Report - Neural Network\n",
            "              precision    recall  f1-score   support\n",
            "\n",
            "           0       0.93      1.00      0.96        26\n",
            "           1       1.00      0.50      0.67         2\n",
            "           2       0.98      0.96      0.97        52\n",
            "\n",
            "    accuracy                           0.96        80\n",
            "   macro avg       0.97      0.82      0.87        80\n",
            "weighted avg       0.96      0.96      0.96        80\n",
            "\n",
            "\n",
            "Fuzzy Classification Report - SVM\n",
            "              precision    recall  f1-score   support\n",
            "\n",
            "           0       0.00      0.00      0.00        26\n",
            "           1       0.00      0.00      0.00         2\n",
            "           2       0.65      1.00      0.79        52\n",
            "\n",
            "    accuracy                           0.65        80\n",
            "   macro avg       0.22      0.33      0.26        80\n",
            "weighted avg       0.42      0.65      0.51        80\n",
            "\n",
            "\n",
            "Fuzzy Classification Report - KNN\n",
            "              precision    recall  f1-score   support\n",
            "\n",
            "           0       0.86      0.46      0.60        26\n",
            "           1       0.50      0.50      0.50         2\n",
            "           2       0.77      0.94      0.84        52\n",
            "\n",
            "    accuracy                           0.78        80\n",
            "   macro avg       0.71      0.63      0.65        80\n",
            "weighted avg       0.79      0.78      0.76        80\n",
            "\n",
            "\n",
            "Fuzzy Classification Report - Decision Tree\n",
            "              precision    recall  f1-score   support\n",
            "\n",
            "           0       0.96      0.92      0.94        26\n",
            "           1       0.50      0.50      0.50         2\n",
            "           2       0.96      0.98      0.97        52\n",
            "\n",
            "    accuracy                           0.95        80\n",
            "   macro avg       0.81      0.80      0.80        80\n",
            "weighted avg       0.95      0.95      0.95        80\n",
            "\n",
            "\n",
            "Fuzzy Classification Report - Random Forest\n",
            "              precision    recall  f1-score   support\n",
            "\n",
            "           0       0.90      1.00      0.95        26\n",
            "           1       0.00      0.00      0.00         2\n",
            "           2       0.98      0.94      0.96        52\n",
            "\n",
            "    accuracy                           0.94        80\n",
            "   macro avg       0.63      0.65      0.64        80\n",
            "weighted avg       0.93      0.94      0.93        80\n",
            "\n",
            "\n",
            "--- Non-Fuzzy Model Classification Reports ---\n",
            "\n",
            "Non-Fuzzy Classification Report - Neural Network\n",
            "              precision    recall  f1-score   support\n",
            "\n",
            "           0       1.00      0.50      0.67         6\n",
            "           1       0.50      1.00      0.67         3\n",
            "           2       0.86      0.92      0.89        13\n",
            "           3       1.00      0.25      0.40         4\n",
            "           4       0.00      0.00      0.00         2\n",
            "           5       0.94      1.00      0.97        49\n",
            "           6       0.75      1.00      0.86         3\n",
            "\n",
            "    accuracy                           0.89        80\n",
            "   macro avg       0.72      0.67      0.64        80\n",
            "weighted avg       0.89      0.89      0.87        80\n",
            "\n",
            "\n",
            "Non-Fuzzy Classification Report - SVM\n",
            "              precision    recall  f1-score   support\n",
            "\n",
            "           0       0.00      0.00      0.00         6\n",
            "           1       0.00      0.00      0.00         3\n",
            "           2       0.00      0.00      0.00        13\n",
            "           3       0.00      0.00      0.00         4\n",
            "           4       0.00      0.00      0.00         2\n",
            "           5       0.61      1.00      0.76        49\n",
            "           6       0.00      0.00      0.00         3\n",
            "\n",
            "    accuracy                           0.61        80\n",
            "   macro avg       0.09      0.14      0.11        80\n",
            "weighted avg       0.38      0.61      0.47        80\n",
            "\n",
            "\n",
            "Non-Fuzzy Classification Report - KNN\n",
            "              precision    recall  f1-score   support\n",
            "\n",
            "           0       0.00      0.00      0.00         6\n",
            "           1       0.33      0.33      0.33         3\n",
            "           2       0.90      0.69      0.78        13\n",
            "           3       0.00      0.00      0.00         4\n",
            "           4       0.50      0.50      0.50         2\n",
            "           5       0.75      0.96      0.84        49\n",
            "           6       1.00      0.67      0.80         3\n",
            "\n",
            "    accuracy                           0.75        80\n",
            "   macro avg       0.50      0.45      0.47        80\n",
            "weighted avg       0.67      0.75      0.70        80\n",
            "\n",
            "\n",
            "Non-Fuzzy Classification Report - Decision Tree\n",
            "              precision    recall  f1-score   support\n",
            "\n",
            "           0       0.71      0.83      0.77         6\n",
            "           1       0.00      0.00      0.00         3\n",
            "           2       0.81      1.00      0.90        13\n",
            "           3       0.00      0.00      0.00         4\n",
            "           4       0.25      0.50      0.33         2\n",
            "           5       0.96      0.96      0.96        49\n",
            "           6       1.00      1.00      1.00         3\n",
            "\n",
            "    accuracy                           0.86        80\n",
            "   macro avg       0.53      0.61      0.57        80\n",
            "weighted avg       0.82      0.86      0.84        80\n",
            "\n",
            "\n",
            "Non-Fuzzy Classification Report - Random Forest\n",
            "              precision    recall  f1-score   support\n",
            "\n",
            "           0       1.00      1.00      1.00         6\n",
            "           1       1.00      0.67      0.80         3\n",
            "           2       0.87      1.00      0.93        13\n",
            "           3       1.00      0.75      0.86         4\n",
            "           4       0.00      0.00      0.00         2\n",
            "           5       0.96      1.00      0.98        49\n",
            "           6       1.00      1.00      1.00         3\n",
            "\n",
            "    accuracy                           0.95        80\n",
            "   macro avg       0.83      0.77      0.80        80\n",
            "weighted avg       0.93      0.95      0.94        80\n",
            "\n"
          ]
        }
      ]
    },
    {
      "cell_type": "markdown",
      "source": [
        "# Step 8: Summary of Results\n"
      ],
      "metadata": {
        "id": "P79hYr59xmRq"
      }
    },
    {
      "cell_type": "code",
      "source": [
        "# Print summary of results\n",
        "\n",
        "print(\"\\nSummary of Results:\")\n",
        "\n",
        "# Print accuracy of fuzzy models\n",
        "print(\"Fuzzy Models (using fuzzified 'Type'):\")\n",
        "for name, acc in fuzzy_results.items():\n",
        "    print(f\"  {name}: {acc * 100:.2f}% accuracy\")\n",
        "\n",
        "# Print accuracy of non-fuzzy models\n",
        "print(\"\\nNon-Fuzzy Models (direct prediction on Type_encoded):\")\n",
        "for name, acc in non_fuzzy_results.items():\n",
        "    print(f\"  {name}: {acc * 100:.2f}% accuracy\")\n",
        "\n",
        "# Print RMSE values for defuzzification methods\n",
        "print(\"\\nDefuzzification (using best fuzzy model):\")\n",
        "print(f\"  Centroid Method RMSE: {rmse_centroid:.4f}\")\n",
        "print(f\"  Mean of Maxima (MOM) RMSE: {rmse_mom:.4f}\")"
      ],
      "metadata": {
        "colab": {
          "base_uri": "https://localhost:8080/"
        },
        "id": "p4HQYRvUxl50",
        "outputId": "55d8acfa-327c-4545-bb3a-bf777b01d81f"
      },
      "execution_count": null,
      "outputs": [
        {
          "output_type": "stream",
          "name": "stdout",
          "text": [
            "\n",
            "Summary of Results:\n",
            "Fuzzy Models (using fuzzified 'Type'):\n",
            "  Neural Network: 96.25% accuracy\n",
            "  SVM: 65.00% accuracy\n",
            "  KNN: 77.50% accuracy\n",
            "  Decision Tree: 95.00% accuracy\n",
            "  Random Forest: 93.75% accuracy\n",
            "\n",
            "Non-Fuzzy Models (direct prediction on Type_encoded):\n",
            "  Neural Network: 88.75% accuracy\n",
            "  SVM: 61.25% accuracy\n",
            "  KNN: 75.00% accuracy\n",
            "  Decision Tree: 86.25% accuracy\n",
            "  Random Forest: 95.00% accuracy\n",
            "\n",
            "Defuzzification (using best fuzzy model):\n",
            "  Centroid Method RMSE: 0.8323\n",
            "  Mean of Maxima (MOM) RMSE: 0.8355\n"
          ]
        }
      ]
    },
    {
      "cell_type": "markdown",
      "source": [
        "# Step 9: Bar Chart Comparison of Fuzzy vs Non-Fuzzy Model Accuracies\n"
      ],
      "metadata": {
        "id": "gmdGiDn_x4VY"
      }
    },
    {
      "cell_type": "code",
      "source": [
        "# Create a list of model names\n",
        "models_list = list(fuzzy_results.keys())\n",
        "\n",
        "# Extract accuracy values for fuzzy and non-fuzzy models\n",
        "fuzzy_acc = [fuzzy_results[m] * 100 for m in models_list]\n",
        "non_fuzzy_acc = [non_fuzzy_results[m] * 100 for m in models_list]\n",
        "\n",
        "# Define x-axis positions\n",
        "x = np.arange(len(models_list))\n",
        "width = 0.35  # Width of the bars\n",
        "\n",
        "# Plot bar chart comparing fuzzy and non-fuzzy model accuracies\n",
        "plt.figure(figsize=(10,6))\n",
        "plt.bar(x - width/2, fuzzy_acc, width, label='Fuzzy', color='blue')\n",
        "plt.bar(x + width/2, non_fuzzy_acc, width, label='Non-Fuzzy', color='orange')\n",
        "\n",
        "# Set axis labels and title\n",
        "plt.xticks(x, models_list)\n",
        "plt.xlabel('Models')\n",
        "plt.ylabel('Accuracy (%)')\n",
        "plt.title('Comparison of Model Accuracies: Fuzzy vs Non-Fuzzy')\n",
        "plt.legend()\n",
        "plt.show()"
      ],
      "metadata": {
        "colab": {
          "base_uri": "https://localhost:8080/",
          "height": 564
        },
        "id": "wc3xEuKDxyN5",
        "outputId": "dda28262-05cd-4696-968a-ab1f06bdda88"
      },
      "execution_count": null,
      "outputs": [
        {
          "output_type": "display_data",
          "data": {
            "text/plain": [
              "<Figure size 1000x600 with 1 Axes>"
            ],
            "image/png": "[encoded data removed]"
          },
          "metadata": {}
        }
      ]
    }
  ]
}